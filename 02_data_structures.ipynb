{
 "cells": [
  {
   "cell_type": "markdown",
   "id": "116ea61b",
   "metadata": {},
   "source": [
    "# Data Structures: Lists, Queues, Stacks, Maps, and Graphs\n",
    "This notebook provides an overview of fundamental data structures commonly used in technical interviews:\n",
    "- Lists\n",
    "- Queues\n",
    "- Stacks\n",
    "- Maps (Dictionaries)\n",
    "- Graphs"
   ]
  },
  {
   "cell_type": "markdown",
   "id": "42eeb358",
   "metadata": {},
   "source": [
    "## 1. Lists\n",
    "Python lists are dynamic arrays that allow indexing, slicing, and various built-in methods."
   ]
  },
  {
   "cell_type": "code",
   "execution_count": 1,
   "id": "95aeca0a",
   "metadata": {},
   "outputs": [
    {
     "name": "stdout",
     "output_type": "stream",
     "text": [
      "Appended: [10, 20, 30, 40, 50]\n",
      "Inserted at index 2: [10, 20, 25, 30, 40, 50]\n",
      "Removed 30: [10, 20, 25, 40, 50]\n",
      "First element: 10\n",
      "Slice [1:4]: [20, 25, 40]\n"
     ]
    }
   ],
   "source": [
    "# Creating and manipulating lists\n",
    "lst = [10, 20, 30, 40]\n",
    "\n",
    "# Append\n",
    "lst.append(50)\n",
    "print(\"Appended:\", lst)\n",
    "\n",
    "# Insert\n",
    "lst.insert(2, 25)\n",
    "print(\"Inserted at index 2:\", lst)\n",
    "\n",
    "# Remove\n",
    "lst.remove(30)\n",
    "print(\"Removed 30:\", lst)\n",
    "\n",
    "# Indexing and slicing\n",
    "print(\"First element:\", lst[0])\n",
    "print(\"Slice [1:4]:\", lst[1:4])\n"
   ]
  },
  {
   "cell_type": "markdown",
   "id": "d4c3b1ab",
   "metadata": {},
   "source": [
    "## 2. Queues\n",
    "Queues follow the FIFO (First In, First Out) principle. Use `collections.deque` for efficient O(1) enqueue and dequeue operations."
   ]
  },
  {
   "cell_type": "code",
   "execution_count": 2,
   "id": "79ce4970",
   "metadata": {},
   "outputs": [
    {
     "name": "stdout",
     "output_type": "stream",
     "text": [
      "Queue after enqueuing: deque(['A', 'B', 'C'])\n",
      "Dequeued element: A\n",
      "Queue after dequeuing: deque(['B', 'C'])\n"
     ]
    }
   ],
   "source": [
    "from collections import deque\n",
    "\n",
    "queue = deque()\n",
    "\n",
    "# Enqueue\n",
    "queue.append(\"A\")\n",
    "queue.append(\"B\")\n",
    "queue.append(\"C\")\n",
    "print(\"Queue after enqueuing:\", queue)\n",
    "\n",
    "# Dequeue\n",
    "first = queue.popleft()\n",
    "print(\"Dequeued element:\", first)\n",
    "print(\"Queue after dequeuing:\", queue)\n"
   ]
  },
  {
   "cell_type": "markdown",
   "id": "1d0bc871",
   "metadata": {},
   "source": [
    "## 3. Stacks\n",
    "Stacks follow the LIFO (Last In, First Out) principle. Use a list with `append()` and `pop()` for stack operations."
   ]
  },
  {
   "cell_type": "code",
   "execution_count": 3,
   "id": "05abaf28",
   "metadata": {},
   "outputs": [
    {
     "name": "stdout",
     "output_type": "stream",
     "text": [
      "Stack after pushing: ['X', 'Y', 'Z']\n",
      "Popped element: Z\n",
      "Stack after popping: ['X', 'Y']\n"
     ]
    }
   ],
   "source": [
    "stack = []\n",
    "\n",
    "# Push\n",
    "stack.append(\"X\")\n",
    "stack.append(\"Y\")\n",
    "stack.append(\"Z\")\n",
    "print(\"Stack after pushing:\", stack)\n",
    "\n",
    "# Pop\n",
    "top = stack.pop()\n",
    "print(\"Popped element:\", top)\n",
    "print(\"Stack after popping:\", stack)\n"
   ]
  },
  {
   "cell_type": "markdown",
   "id": "daea7267",
   "metadata": {},
   "source": [
    "## 4. Maps (Dictionaries)\n",
    "Maps store key-value pairs. Python uses `dict` for maps."
   ]
  },
  {
   "cell_type": "code",
   "execution_count": 4,
   "id": "cb1bf7e9",
   "metadata": {},
   "outputs": [
    {
     "name": "stdout",
     "output_type": "stream",
     "text": [
      "Name: Alice\n",
      "Updated age: 31\n",
      "name => Alice\n",
      "age => 31\n",
      "city => Lisbon\n"
     ]
    }
   ],
   "source": [
    "# Create and manipulate a dictionary\n",
    "person = {\n",
    "    \"name\": \"Alice\",\n",
    "    \"age\": 30,\n",
    "    \"city\": \"Lisbon\"\n",
    "}\n",
    "\n",
    "# Access and update\n",
    "print(\"Name:\", person[\"name\"])\n",
    "person[\"age\"] += 1\n",
    "print(\"Updated age:\", person[\"age\"])\n",
    "\n",
    "# Iterate\n",
    "for key, value in person.items():\n",
    "    print(f\"{key} => {value}\")\n"
   ]
  },
  {
   "cell_type": "markdown",
   "id": "087e9f0a",
   "metadata": {},
   "source": [
    "## 5. Graphs\n",
    "Graphs represent connections between nodes. We can use an adjacency list (dictionary of lists) to represent graphs."
   ]
  },
  {
   "cell_type": "code",
   "execution_count": 5,
   "id": "35a7bea2",
   "metadata": {},
   "outputs": [
    {
     "name": "stdout",
     "output_type": "stream",
     "text": [
      "DFS starting from A:\n",
      "A\n",
      "B\n",
      "D\n",
      "C\n"
     ]
    }
   ],
   "source": [
    "# Graph represented as an adjacency list\n",
    "graph = {\n",
    "    \"A\": [\"B\", \"C\"],\n",
    "    \"B\": [\"D\"],\n",
    "    \"C\": [\"D\"],\n",
    "    \"D\": []\n",
    "}\n",
    "\n",
    "# Depth-First Search (DFS)\n",
    "def dfs(node, visited=None):\n",
    "    if visited is None:\n",
    "        visited = set()\n",
    "    if node not in visited:\n",
    "        print(node)\n",
    "        visited.add(node)\n",
    "        for neighbor in graph[node]:\n",
    "            dfs(neighbor, visited)\n",
    "\n",
    "print(\"DFS starting from A:\")\n",
    "dfs(\"A\")\n"
   ]
  }
 ],
 "metadata": {
  "kernelspec": {
   "display_name": ".homebuddy_env",
   "language": "python",
   "name": "python3"
  },
  "language_info": {
   "codemirror_mode": {
    "name": "ipython",
    "version": 3
   },
   "file_extension": ".py",
   "mimetype": "text/x-python",
   "name": "python",
   "nbconvert_exporter": "python",
   "pygments_lexer": "ipython3",
   "version": "3.11.8"
  }
 },
 "nbformat": 4,
 "nbformat_minor": 5
}
