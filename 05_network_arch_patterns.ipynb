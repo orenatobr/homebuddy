{
 "cells": [
  {
   "cell_type": "markdown",
   "id": "ea2bb716",
   "metadata": {},
   "source": [
    "# Architecture Patterns and Network Design\n",
    "This notebook covers key architecture patterns and infrastructure concepts relevant to building scalable and secure systems.\n",
    "\n",
    "Topics:\n",
    "- DMZ (Demilitarized Zone)\n",
    "- Three-Tier Architecture\n",
    "- Microservices\n",
    "- Caching\n",
    "- Messaging Queues (RabbitMQ, Kafka)\n",
    "- Horizontal Scaling"
   ]
  },
  {
   "cell_type": "markdown",
   "id": "0463a23c",
   "metadata": {},
   "source": [
    "## 1. DMZ (Demilitarized Zone)\n",
    "A DMZ is a perimeter network that protects internal systems from external threats. It typically hosts:\n",
    "- Public-facing servers (e.g. web servers, reverse proxies)\n",
    "- External APIs\n",
    "\n",
    "Traffic from the internet is filtered and routed into the DMZ, and only selected services can communicate with the internal network.\n",
    "\n",
    "**Purpose:**\n",
    "- Add a security buffer\n",
    "- Minimize exposure of internal resources"
   ]
  },
  {
   "cell_type": "markdown",
   "id": "64382d95",
   "metadata": {},
   "source": [
    "## 2. Three-Tier Architecture\n",
    "This model separates systems into three layers:\n",
    "1. **Presentation Layer** – UI/Frontend (e.g. browser, mobile app)\n",
    "2. **Application Layer** – Business logic (e.g. Flask, Node.js)\n",
    "3. **Data Layer** – Persistent storage (e.g. PostgreSQL, MongoDB)\n",
    "\n",
    "**Benefits:**\n",
    "- Maintainability\n",
    "- Scalability\n",
    "- Isolation of concerns"
   ]
  },
  {
   "cell_type": "markdown",
   "id": "bfcc752f",
   "metadata": {},
   "source": [
    "## 3. Microservices\n",
    "Microservices architecture breaks down applications into small, independently deployable services.\n",
    "\n",
    "**Advantages:**\n",
    "- Independent scaling\n",
    "- Fault isolation\n",
    "- Polyglot architecture (different languages/DBs)\n",
    "\n",
    "**Challenges:**\n",
    "- Distributed complexity\n",
    "- Inter-service communication\n",
    "- Monitoring and debugging"
   ]
  },
  {
   "cell_type": "markdown",
   "id": "c5f6d581",
   "metadata": {},
   "source": [
    "## 4. Caching\n",
    "Caching is used to store frequently accessed data to reduce latency and load on primary systems.\n",
    "\n",
    "**Types of caching:**\n",
    "- In-memory (e.g. Redis, Memcached)\n",
    "- CDN (Content Delivery Network)\n",
    "\n",
    "**Strategies:**\n",
    "- Write-through\n",
    "- Write-behind\n",
    "- Cache invalidation"
   ]
  },
  {
   "cell_type": "code",
   "execution_count": null,
   "id": "768674db",
   "metadata": {},
   "outputs": [
    {
     "name": "stdout",
     "output_type": "stream",
     "text": [
      "Cache miss\n",
      "{'id': 1, 'name': 'User1'}\n",
      "Cache hit\n",
      "{'id': 1, 'name': 'User1'}\n"
     ]
    }
   ],
   "source": [
    "# Simple in-memory cache simulation using a dictionary\n",
    "cache = {}\n",
    "\n",
    "\n",
    "def get_user(user_id):\n",
    "    if user_id in cache:\n",
    "        print(\"Cache hit\")\n",
    "        return cache[user_id]\n",
    "    else:\n",
    "        print(\"Cache miss\")\n",
    "        user_data = {\"id\": user_id, \"name\": f\"User{user_id}\"}\n",
    "        cache[user_id] = user_data\n",
    "        return user_data\n",
    "\n",
    "\n",
    "print(get_user(1))\n",
    "print(get_user(1))  # Should hit the cache"
   ]
  },
  {
   "cell_type": "markdown",
   "id": "37b119c2",
   "metadata": {},
   "source": [
    "## 5. Messaging Queues\n",
    "Message queues decouple services and help build resilient systems.\n",
    "\n",
    "**RabbitMQ** (broker-based):\n",
    "- Uses AMQP protocol\n",
    "- Ideal for task queues, retries, acknowledgments\n",
    "\n",
    "**Apache Kafka** (log-based):\n",
    "- High-throughput pub/sub\n",
    "- Great for event streams, analytics pipelines"
   ]
  },
  {
   "cell_type": "code",
   "execution_count": null,
   "id": "2daa8eb7",
   "metadata": {},
   "outputs": [
    {
     "name": "stdout",
     "output_type": "stream",
     "text": [
      "Consumed: Message 0\n",
      "Consumed: Message 1\n",
      "Consumed: Message 2\n"
     ]
    }
   ],
   "source": [
    "# Simulate a simple message queue using Python's queue.Queue\n",
    "from queue import Queue\n",
    "\n",
    "queue = Queue()\n",
    "\n",
    "# Producer\n",
    "for i in range(3):\n",
    "    queue.put(f\"Message {i}\")\n",
    "\n",
    "# Consumer\n",
    "while not queue.empty():\n",
    "    msg = queue.get()\n",
    "    print(\"Consumed:\", msg)"
   ]
  },
  {
   "cell_type": "markdown",
   "id": "e3616797",
   "metadata": {},
   "source": [
    "## 6. Horizontal Scaling\n",
    "Horizontal scaling means adding more machines to handle increased load, instead of upgrading a single machine (vertical scaling).\n",
    "\n",
    "**Examples:**\n",
    "- Adding more web servers behind a load balancer\n",
    "- Partitioning a database (sharding)\n",
    "\n",
    "**Benefits:**\n",
    "- Flexibility\n",
    "- Cost-efficient at scale"
   ]
  }
 ],
 "metadata": {
  "kernelspec": {
   "display_name": ".homebuddy_env",
   "language": "python",
   "name": "python3"
  },
  "language_info": {
   "codemirror_mode": {
    "name": "ipython",
    "version": 3
   },
   "file_extension": ".py",
   "mimetype": "text/x-python",
   "name": "python",
   "nbconvert_exporter": "python",
   "pygments_lexer": "ipython3",
   "version": "3.11.8"
  }
 },
 "nbformat": 4,
 "nbformat_minor": 5
}
