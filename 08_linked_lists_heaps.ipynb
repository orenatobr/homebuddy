{
 "cells": [
  {
   "cell_type": "markdown",
   "id": "0c0ae95e",
   "metadata": {},
   "source": [
    "# Linked Lists and Heaps\n",
    "This notebook introduces two fundamental data structures often used in interviews:\n",
    "\n",
    "- Linked Lists\n",
    "- Heaps (MinHeap/MaxHeap)"
   ]
  },
  {
   "cell_type": "markdown",
   "id": "a7396077",
   "metadata": {},
   "source": [
    "## 1. Linked Lists\n",
    "A linked list is a linear data structure where each element points to the next.\n",
    "Useful for insertions/deletions without shifting elements.\n",
    "\n",
    "Example: Singly Linked List"
   ]
  },
  {
   "cell_type": "code",
   "execution_count": 1,
   "id": "e33e864d",
   "metadata": {},
   "outputs": [
    {
     "name": "stdout",
     "output_type": "stream",
     "text": [
      "10 -> 20 -> 30 -> None\n"
     ]
    }
   ],
   "source": [
    "class Node:\n",
    "    def __init__(self, value):\n",
    "        self.value = value\n",
    "        self.next = None\n",
    "\n",
    "class LinkedList:\n",
    "    def __init__(self):\n",
    "        self.head = None\n",
    "\n",
    "    def append(self, value):\n",
    "        if not self.head:\n",
    "            self.head = Node(value)\n",
    "            return\n",
    "        curr = self.head\n",
    "        while curr.next:\n",
    "            curr = curr.next\n",
    "        curr.next = Node(value)\n",
    "\n",
    "    def display(self):\n",
    "        curr = self.head\n",
    "        while curr:\n",
    "            print(curr.value, end=\" -> \")\n",
    "            curr = curr.next\n",
    "        print(\"None\")\n",
    "\n",
    "# Example usage\n",
    "ll = LinkedList()\n",
    "ll.append(10)\n",
    "ll.append(20)\n",
    "ll.append(30)\n",
    "ll.display()\n"
   ]
  },
  {
   "cell_type": "markdown",
   "id": "86f34fd3",
   "metadata": {},
   "source": [
    "## 2. Heaps (Priority Queues)\n",
    "Heaps are binary trees that maintain a specific order:\n",
    "- **MinHeap**: Parent <= Children (default in `heapq`)\n",
    "- **MaxHeap**: Parent >= Children (simulate using negative values)\n",
    "\n",
    "Python’s `heapq` provides an efficient heap-based priority queue."
   ]
  },
  {
   "cell_type": "code",
   "execution_count": 2,
   "id": "cfd54130",
   "metadata": {},
   "outputs": [
    {
     "name": "stdout",
     "output_type": "stream",
     "text": [
      "MinHeap: [1, 3, 5]\n"
     ]
    }
   ],
   "source": [
    "import heapq\n",
    "\n",
    "# MinHeap example\n",
    "min_heap = []\n",
    "heapq.heappush(min_heap, 3)\n",
    "heapq.heappush(min_heap, 1)\n",
    "heapq.heappush(min_heap, 5)\n",
    "print(\"MinHeap:\", [heapq.heappop(min_heap) for _ in range(len(min_heap))])\n"
   ]
  },
  {
   "cell_type": "code",
   "execution_count": 3,
   "id": "4c778a7b",
   "metadata": {},
   "outputs": [
    {
     "name": "stdout",
     "output_type": "stream",
     "text": [
      "MaxHeap: [5, 3, 1]\n"
     ]
    }
   ],
   "source": [
    "# MaxHeap example (using negative values)\n",
    "max_heap = []\n",
    "for num in [3, 1, 5]:\n",
    "    heapq.heappush(max_heap, -num)\n",
    "\n",
    "print(\"MaxHeap:\", [-heapq.heappop(max_heap) for _ in range(len(max_heap))])\n"
   ]
  },
  {
   "cell_type": "markdown",
   "id": "5d0d5901",
   "metadata": {},
   "source": [
    "### Applications of Heaps\n",
    "- Finding the k smallest/largest elements\n",
    "- Efficient priority queue\n",
    "- Scheduling tasks (CPU, disk I/O)\n",
    "- Streaming median problems"
   ]
  }
 ],
 "metadata": {
  "kernelspec": {
   "display_name": ".homebuddy_env",
   "language": "python",
   "name": "python3"
  },
  "language_info": {
   "codemirror_mode": {
    "name": "ipython",
    "version": 3
   },
   "file_extension": ".py",
   "mimetype": "text/x-python",
   "name": "python",
   "nbconvert_exporter": "python",
   "pygments_lexer": "ipython3",
   "version": "3.11.8"
  }
 },
 "nbformat": 4,
 "nbformat_minor": 5
}
