{
 "cells": [
  {
   "cell_type": "markdown",
   "id": "aad96493",
   "metadata": {},
   "source": [
    "# Dynamic Programming & Recursion\n",
    "This notebook covers key concepts of recursion and dynamic programming, commonly asked in technical interviews.\n",
    "\n",
    "Topics:\n",
    "- Recursion Basics\n",
    "- Memoization\n",
    "- Tabulation (Bottom-Up DP)\n",
    "- Classic DP Problems"
   ]
  },
  {
   "cell_type": "markdown",
   "id": "1c7ada12",
   "metadata": {},
   "source": [
    "## 1. Recursion Basics\n",
    "Recursion is a technique where a function calls itself to solve subproblems.\n",
    "\n",
    "Example: Factorial"
   ]
  },
  {
   "cell_type": "code",
   "execution_count": 1,
   "id": "a669465d",
   "metadata": {},
   "outputs": [
    {
     "name": "stdout",
     "output_type": "stream",
     "text": [
      "Factorial of 5: 120\n"
     ]
    }
   ],
   "source": [
    "def factorial(n):\n",
    "    if n == 0 or n == 1:\n",
    "        return 1\n",
    "    return n * factorial(n - 1)\n",
    "\n",
    "print(\"Factorial of 5:\", factorial(5))\n"
   ]
  },
  {
   "cell_type": "markdown",
   "id": "d5774d79",
   "metadata": {},
   "source": [
    "## 2. Fibonacci (Naive Recursive)\n",
    "This solution has exponential time complexity."
   ]
  },
  {
   "cell_type": "code",
   "execution_count": 2,
   "id": "633583fe",
   "metadata": {},
   "outputs": [
    {
     "name": "stdout",
     "output_type": "stream",
     "text": [
      "Fibonacci(6): 8\n"
     ]
    }
   ],
   "source": [
    "def fib_naive(n):\n",
    "    if n <= 1:\n",
    "        return n\n",
    "    return fib_naive(n - 1) + fib_naive(n - 2)\n",
    "\n",
    "print(\"Fibonacci(6):\", fib_naive(6))\n"
   ]
  },
  {
   "cell_type": "markdown",
   "id": "1a84e179",
   "metadata": {},
   "source": [
    "## 3. Memoization\n",
    "Memoization stores previously computed results to avoid redundant work (Top-Down DP)."
   ]
  },
  {
   "cell_type": "code",
   "execution_count": 3,
   "id": "d4041150",
   "metadata": {},
   "outputs": [
    {
     "name": "stdout",
     "output_type": "stream",
     "text": [
      "Fibonacci with memoization(30): 832040\n"
     ]
    }
   ],
   "source": [
    "def fib_memo(n, memo={}):\n",
    "    if n in memo:\n",
    "        return memo[n]\n",
    "    if n <= 1:\n",
    "        return n\n",
    "    memo[n] = fib_memo(n - 1, memo) + fib_memo(n - 2, memo)\n",
    "    return memo[n]\n",
    "\n",
    "print(\"Fibonacci with memoization(30):\", fib_memo(30))\n"
   ]
  },
  {
   "cell_type": "markdown",
   "id": "cd2a9943",
   "metadata": {},
   "source": [
    "## 4. Tabulation (Bottom-Up DP)\n",
    "Builds the solution iteratively from the base case."
   ]
  },
  {
   "cell_type": "code",
   "execution_count": 4,
   "id": "b6c71cbc",
   "metadata": {},
   "outputs": [
    {
     "name": "stdout",
     "output_type": "stream",
     "text": [
      "Fibonacci with tabulation(30): 832040\n"
     ]
    }
   ],
   "source": [
    "def fib_tab(n):\n",
    "    if n <= 1:\n",
    "        return n\n",
    "    dp = [0] * (n + 1)\n",
    "    dp[1] = 1\n",
    "    for i in range(2, n + 1):\n",
    "        dp[i] = dp[i - 1] + dp[i - 2]\n",
    "    return dp[n]\n",
    "\n",
    "print(\"Fibonacci with tabulation(30):\", fib_tab(30))\n"
   ]
  },
  {
   "cell_type": "markdown",
   "id": "8ac4b89a",
   "metadata": {},
   "source": [
    "## 5. Classic DP Problem: 0/1 Knapsack\n",
    "Given weights and values of items, determine the maximum value that can be obtained with a given capacity."
   ]
  },
  {
   "cell_type": "code",
   "execution_count": 5,
   "id": "4ebabd92",
   "metadata": {},
   "outputs": [
    {
     "name": "stdout",
     "output_type": "stream",
     "text": [
      "Knapsack max value: 9\n"
     ]
    }
   ],
   "source": [
    "def knapsack(weights, values, capacity):\n",
    "    n = len(values)\n",
    "    dp = [[0] * (capacity + 1) for _ in range(n + 1)]\n",
    "\n",
    "    for i in range(1, n + 1):\n",
    "        for w in range(capacity + 1):\n",
    "            if weights[i - 1] <= w:\n",
    "                dp[i][w] = max(\n",
    "                    dp[i - 1][w],\n",
    "                    values[i - 1] + dp[i - 1][w - weights[i - 1]]\n",
    "                )\n",
    "            else:\n",
    "                dp[i][w] = dp[i - 1][w]\n",
    "\n",
    "    return dp[n][capacity]\n",
    "\n",
    "weights = [1, 3, 4, 5]\n",
    "values = [1, 4, 5, 7]\n",
    "capacity = 7\n",
    "print(\"Knapsack max value:\", knapsack(weights, values, capacity))\n"
   ]
  }
 ],
 "metadata": {
  "kernelspec": {
   "display_name": ".homebuddy_env",
   "language": "python",
   "name": "python3"
  },
  "language_info": {
   "codemirror_mode": {
    "name": "ipython",
    "version": 3
   },
   "file_extension": ".py",
   "mimetype": "text/x-python",
   "name": "python",
   "nbconvert_exporter": "python",
   "pygments_lexer": "ipython3",
   "version": "3.11.8"
  }
 },
 "nbformat": 4,
 "nbformat_minor": 5
}
