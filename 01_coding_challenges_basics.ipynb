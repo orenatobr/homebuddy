{
 "cells": [
  {
   "cell_type": "markdown",
   "id": "54b90e3a",
   "metadata": {},
   "source": [
    "# Coding Challenges: Arrays, Trees, and Basic Algorithms\n",
    "This notebook contains basic coding challenges commonly asked in technical interviews.\n",
    "We will cover:\n",
    "- Array manipulation\n",
    "- Searching algorithms\n",
    "- Sorting algorithms\n",
    "- Tree traversal\n"
   ]
  },
  {
   "cell_type": "markdown",
   "id": "f9bdce0b",
   "metadata": {},
   "source": [
    "## 1. Array Manipulation\n",
    "Arrays are one of the most fundamental data structures. Let's start with a few common operations: reversing, finding min/max, and removing duplicates."
   ]
  },
  {
   "cell_type": "code",
   "execution_count": null,
   "id": "f51694de",
   "metadata": {},
   "outputs": [
    {
     "name": "stdout",
     "output_type": "stream",
     "text": [
      "Reversed: [5, 4, 3, 2, 1]\n",
      "Min: 1\n",
      "Max: 5\n",
      "Unique: [1, 2, 3, 4, 5]\n"
     ]
    }
   ],
   "source": [
    "# Reversing an array\n",
    "arr = [1, 2, 3, 4, 5]\n",
    "reversed_arr = arr[::-1]\n",
    "print(\"Reversed:\", reversed_arr)\n",
    "\n",
    "# Finding min and max\n",
    "print(\"Min:\", min(arr))\n",
    "print(\"Max:\", max(arr))\n",
    "\n",
    "# Removing duplicates\n",
    "arr_with_dups = [1, 2, 2, 3, 4, 4, 5]\n",
    "unique_arr = list(set(arr_with_dups))\n",
    "print(\"Unique:\", unique_arr)"
   ]
  },
  {
   "cell_type": "markdown",
   "id": "cc7046ec",
   "metadata": {},
   "source": [
    "## 2. Searching Algorithms\n",
    "**Linear Search** and **Binary Search** are two foundational search algorithms.\n",
    "- Linear Search: works on unsorted arrays.\n",
    "- Binary Search: works only on sorted arrays."
   ]
  },
  {
   "cell_type": "code",
   "execution_count": null,
   "id": "e1600e31",
   "metadata": {},
   "outputs": [
    {
     "name": "stdout",
     "output_type": "stream",
     "text": [
      "Linear Search (target=7): 3\n",
      "Binary Search (target=7): 3\n"
     ]
    }
   ],
   "source": [
    "def linear_search(arr, target):\n",
    "    for i, value in enumerate(arr):\n",
    "        if value == target:\n",
    "            return i\n",
    "    return -1\n",
    "\n",
    "\n",
    "def binary_search(arr, target):\n",
    "    left, right = 0, len(arr) - 1\n",
    "    while left <= right:\n",
    "        mid = (left + right) // 2\n",
    "        if arr[mid] == target:\n",
    "            return mid\n",
    "        elif arr[mid] < target:\n",
    "            left = mid + 1\n",
    "        else:\n",
    "            right = mid - 1\n",
    "    return -1\n",
    "\n",
    "\n",
    "arr = [1, 3, 5, 7, 9, 11]\n",
    "print(\"Linear Search (target=7):\", linear_search(arr, 7))\n",
    "print(\"Binary Search (target=7):\", binary_search(arr, 7))"
   ]
  },
  {
   "cell_type": "markdown",
   "id": "580ebdb2",
   "metadata": {},
   "source": [
    "## 3. Sorting Algorithms\n",
    "Sorting algorithms are crucial for optimizing other algorithms. Let's implement:\n",
    "- Bubble Sort\n",
    "- Quick Sort\n",
    "- Merge Sort"
   ]
  },
  {
   "cell_type": "code",
   "execution_count": null,
   "id": "d1b483e5",
   "metadata": {},
   "outputs": [
    {
     "name": "stdout",
     "output_type": "stream",
     "text": [
      "Bubble Sort: [2, 3, 4, 5, 8]\n",
      "Quick Sort: [2, 3, 4, 5, 8]\n",
      "Merge Sort: [2, 3, 4, 5, 8]\n"
     ]
    }
   ],
   "source": [
    "def bubble_sort(arr):\n",
    "    n = len(arr)\n",
    "    for i in range(n):\n",
    "        for j in range(0, n - i - 1):\n",
    "            if arr[j] > arr[j + 1]:\n",
    "                arr[j], arr[j + 1] = arr[j + 1], arr[j]\n",
    "    return arr\n",
    "\n",
    "\n",
    "def quick_sort(arr):\n",
    "    if len(arr) <= 1:\n",
    "        return arr\n",
    "    pivot = arr[0]\n",
    "    less = [x for x in arr[1:] if x <= pivot]\n",
    "    greater = [x for x in arr[1:] if x > pivot]\n",
    "    return quick_sort(less) + [pivot] + quick_sort(greater)\n",
    "\n",
    "\n",
    "def merge_sort(arr):\n",
    "    if len(arr) <= 1:\n",
    "        return arr\n",
    "    mid = len(arr) // 2\n",
    "    left = merge_sort(arr[:mid])\n",
    "    right = merge_sort(arr[mid:])\n",
    "    result = []\n",
    "    i = j = 0\n",
    "    while i < len(left) and j < len(right):\n",
    "        if left[i] < right[j]:\n",
    "            result.append(left[i])\n",
    "            i += 1\n",
    "        else:\n",
    "            result.append(right[j])\n",
    "            j += 1\n",
    "    result.extend(left[i:])\n",
    "    result.extend(right[j:])\n",
    "    return result\n",
    "\n",
    "\n",
    "arr = [5, 3, 8, 4, 2]\n",
    "print(\"Bubble Sort:\", bubble_sort(arr[:]))\n",
    "print(\"Quick Sort:\", quick_sort(arr[:]))\n",
    "print(\"Merge Sort:\", merge_sort(arr[:]))"
   ]
  },
  {
   "cell_type": "markdown",
   "id": "679d3a39",
   "metadata": {},
   "source": [
    "## 4. Tree Traversal\n",
    "Tree traversal is essential in many recursive algorithms. We'll implement:\n",
    "- Inorder Traversal\n",
    "- Preorder Traversal\n",
    "- Postorder Traversal"
   ]
  },
  {
   "cell_type": "code",
   "execution_count": null,
   "id": "c6cd1153",
   "metadata": {},
   "outputs": [
    {
     "name": "stdout",
     "output_type": "stream",
     "text": [
      "Inorder Traversal:\n",
      "4 2 5 1 3 \n",
      "Preorder Traversal:\n",
      "1 2 4 5 3 \n",
      "Postorder Traversal:\n",
      "4 5 2 3 1 "
     ]
    }
   ],
   "source": [
    "class Node:\n",
    "    def __init__(self, value):\n",
    "        self.value = value\n",
    "        self.left = None\n",
    "        self.right = None\n",
    "\n",
    "\n",
    "def inorder(node):\n",
    "    if node:\n",
    "        inorder(node.left)\n",
    "        print(node.value, end=\" \")\n",
    "        inorder(node.right)\n",
    "\n",
    "\n",
    "def preorder(node):\n",
    "    if node:\n",
    "        print(node.value, end=\" \")\n",
    "        preorder(node.left)\n",
    "        preorder(node.right)\n",
    "\n",
    "\n",
    "def postorder(node):\n",
    "    if node:\n",
    "        postorder(node.left)\n",
    "        postorder(node.right)\n",
    "        print(node.value, end=\" \")\n",
    "\n",
    "\n",
    "# Build a sample tree\n",
    "#     1\n",
    "#    / \\\n",
    "#   2   3\n",
    "#  / \\\n",
    "# 4   5\n",
    "\n",
    "root = Node(1)\n",
    "root.left = Node(2)\n",
    "root.right = Node(3)\n",
    "root.left.left = Node(4)\n",
    "root.left.right = Node(5)\n",
    "\n",
    "print(\"Inorder Traversal:\")\n",
    "inorder(root)\n",
    "print(\"\\nPreorder Traversal:\")\n",
    "preorder(root)\n",
    "print(\"\\nPostorder Traversal:\")\n",
    "postorder(root)"
   ]
  }
 ],
 "metadata": {
  "kernelspec": {
   "display_name": ".homebuddy_env",
   "language": "python",
   "name": "python3"
  },
  "language_info": {
   "codemirror_mode": {
    "name": "ipython",
    "version": 3
   },
   "file_extension": ".py",
   "mimetype": "text/x-python",
   "name": "python",
   "nbconvert_exporter": "python",
   "pygments_lexer": "ipython3",
   "version": "3.11.8"
  }
 },
 "nbformat": 4,
 "nbformat_minor": 5
}
