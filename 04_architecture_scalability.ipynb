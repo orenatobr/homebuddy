{
 "cells": [
  {
   "cell_type": "markdown",
   "id": "06dc9797",
   "metadata": {},
   "source": [
    "# Architecture and Scalability\n",
    "This notebook introduces core concepts around software architecture and scalability, commonly discussed in system design interviews.\n",
    "\n",
    "Topics:\n",
    "- Distributed Systems\n",
    "- Layered Architecture\n",
    "- Relational vs NoSQL Databases"
   ]
  },
  {
   "cell_type": "markdown",
   "id": "841872bc",
   "metadata": {},
   "source": [
    "## 1. Distributed Systems\n",
    "Distributed systems consist of multiple computers working together as a single system. Key concepts:\n",
    "- **Scalability**: Ability to handle growing amounts of work\n",
    "- **Fault Tolerance**: System continues to function despite failures\n",
    "- **Consistency Models**: Strong, eventual, causal consistency\n",
    "- **CAP Theorem**: A distributed system can only guarantee two of the following: Consistency, Availability, Partition Tolerance"
   ]
  },
  {
   "cell_type": "code",
   "execution_count": 1,
   "id": "b9899657",
   "metadata": {},
   "outputs": [
    {
     "name": "stdout",
     "output_type": "stream",
     "text": [
      "Simulating network latency: 0.12 seconds\n"
     ]
    },
    {
     "data": {
      "text/plain": [
       "'Response received'"
      ]
     },
     "execution_count": 1,
     "metadata": {},
     "output_type": "execute_result"
    }
   ],
   "source": [
    "import time\n",
    "import random\n",
    "\n",
    "# Simulate network latency in a distributed request\n",
    "def simulated_network_call():\n",
    "    delay = random.uniform(0.1, 0.5)\n",
    "    print(f\"Simulating network latency: {delay:.2f} seconds\")\n",
    "    time.sleep(delay)\n",
    "    return \"Response received\"\n",
    "\n",
    "simulated_network_call()\n"
   ]
  },
  {
   "cell_type": "markdown",
   "id": "41c20434",
   "metadata": {},
   "source": [
    "## 2. Layered Architecture\n",
    "A common architecture pattern separates responsibilities into layers:\n",
    "- **Presentation Layer**: UI/Frontend (e.g., React, mobile app)\n",
    "- **Application Layer**: Business logic (e.g., API server)\n",
    "- **Data Layer**: Access to storage (e.g., SQL, NoSQL databases)\n",
    "\n",
    "Benefits:\n",
    "- Separation of concerns\n",
    "- Easier to maintain and scale\n",
    "- Testable and modular"
   ]
  },
  {
   "cell_type": "markdown",
   "id": "2ce06bc1",
   "metadata": {},
   "source": [
    "## 3. Relational vs NoSQL Databases\n",
    "### Relational Databases (SQL)\n",
    "- Structured schema (tables, rows, columns)\n",
    "- Strong ACID compliance\n",
    "- Use cases: financial systems, ERPs, transactional apps\n",
    "\n",
    "Examples: PostgreSQL, MySQL, SQL Server\n",
    "\n",
    "### NoSQL Databases\n",
    "- Flexible schema (documents, key-value, graphs)\n",
    "- Horizontal scalability\n",
    "- Use cases: real-time analytics, big data, content management\n",
    "\n",
    "Examples: MongoDB, Redis, Cassandra"
   ]
  },
  {
   "cell_type": "code",
   "execution_count": 2,
   "id": "d5fbee83",
   "metadata": {},
   "outputs": [
    {
     "name": "stdout",
     "output_type": "stream",
     "text": [
      "Relational (flat structure): {'id': 1, 'name': 'Alice', 'email': 'alice@example.com'}\n",
      "NoSQL (nested document): {'_id': 'abc123', 'profile': {'name': 'Alice', 'email': 'alice@example.com'}, 'settings': {'theme': 'dark', 'notifications': True}}\n"
     ]
    }
   ],
   "source": [
    "# Simulate relational (SQL) and NoSQL document-style data access\n",
    "\n",
    "# SQL-style record\n",
    "user_sql = {\n",
    "    \"id\": 1,\n",
    "    \"name\": \"Alice\",\n",
    "    \"email\": \"alice@example.com\"\n",
    "}\n",
    "\n",
    "# NoSQL document (nested JSON)\n",
    "user_nosql = {\n",
    "    \"_id\": \"abc123\",\n",
    "    \"profile\": {\n",
    "        \"name\": \"Alice\",\n",
    "        \"email\": \"alice@example.com\"\n",
    "    },\n",
    "    \"settings\": {\n",
    "        \"theme\": \"dark\",\n",
    "        \"notifications\": True\n",
    "    }\n",
    "}\n",
    "\n",
    "print(\"Relational (flat structure):\", user_sql)\n",
    "print(\"NoSQL (nested document):\", user_nosql)\n"
   ]
  }
 ],
 "metadata": {
  "kernelspec": {
   "display_name": ".homebuddy_env",
   "language": "python",
   "name": "python3"
  },
  "language_info": {
   "codemirror_mode": {
    "name": "ipython",
    "version": 3
   },
   "file_extension": ".py",
   "mimetype": "text/x-python",
   "name": "python",
   "nbconvert_exporter": "python",
   "pygments_lexer": "ipython3",
   "version": "3.11.8"
  }
 },
 "nbformat": 4,
 "nbformat_minor": 5
}
