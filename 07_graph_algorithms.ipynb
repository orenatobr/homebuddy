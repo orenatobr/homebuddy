{
 "cells": [
  {
   "cell_type": "markdown",
   "id": "a38493dc",
   "metadata": {},
   "source": [
    "# Graph Algorithms: BFS, DFS, and Dijkstra\n",
    "This notebook covers core graph traversal and pathfinding algorithms:\n",
    "\n",
    "- Breadth-First Search (BFS)\n",
    "- Depth-First Search (DFS)\n",
    "- Dijkstra's Algorithm"
   ]
  },
  {
   "cell_type": "markdown",
   "id": "40be5225",
   "metadata": {},
   "source": [
    "## Graph Representation\n",
    "Graphs can be represented using adjacency lists or adjacency matrices.\n",
    "Here, we use dictionaries for adjacency lists."
   ]
  },
  {
   "cell_type": "code",
   "execution_count": 1,
   "id": "8fa06f7a",
   "metadata": {},
   "outputs": [],
   "source": [
    "graph = {\n",
    "    \"A\": [\"B\", \"C\"],\n",
    "    \"B\": [\"A\", \"D\", \"E\"],\n",
    "    \"C\": [\"A\", \"F\"],\n",
    "    \"D\": [\"B\"],\n",
    "    \"E\": [\"B\", \"F\"],\n",
    "    \"F\": [\"C\", \"E\"]\n",
    "}\n"
   ]
  },
  {
   "cell_type": "markdown",
   "id": "0a5345bb",
   "metadata": {},
   "source": [
    "## 1. Breadth-First Search (BFS)\n",
    "BFS explores neighbors level by level using a queue. It is ideal for finding the shortest path in unweighted graphs."
   ]
  },
  {
   "cell_type": "code",
   "execution_count": 2,
   "id": "57573648",
   "metadata": {},
   "outputs": [
    {
     "name": "stdout",
     "output_type": "stream",
     "text": [
      "BFS from A:\n",
      "A B C D E F "
     ]
    }
   ],
   "source": [
    "from collections import deque\n",
    "\n",
    "def bfs(start, graph):\n",
    "    visited = set()\n",
    "    queue = deque([start])\n",
    "\n",
    "    while queue:\n",
    "        node = queue.popleft()\n",
    "        if node not in visited:\n",
    "            print(node, end=\" \")\n",
    "            visited.add(node)\n",
    "            queue.extend(neigh for neigh in graph[node] if neigh not in visited)\n",
    "\n",
    "print(\"BFS from A:\")\n",
    "bfs(\"A\", graph)\n"
   ]
  },
  {
   "cell_type": "markdown",
   "id": "51847e4d",
   "metadata": {},
   "source": [
    "## 2. Depth-First Search (DFS)\n",
    "DFS explores as far as possible along each branch before backtracking. It uses a stack (can be implemented via recursion)."
   ]
  },
  {
   "cell_type": "code",
   "execution_count": 3,
   "id": "629180e7",
   "metadata": {},
   "outputs": [
    {
     "name": "stdout",
     "output_type": "stream",
     "text": [
      "DFS from A:\n",
      "A B D E F C "
     ]
    }
   ],
   "source": [
    "def dfs(node, visited=None):\n",
    "    if visited is None:\n",
    "        visited = set()\n",
    "    if node not in visited:\n",
    "        print(node, end=\" \")\n",
    "        visited.add(node)\n",
    "        for neighbor in graph[node]:\n",
    "            dfs(neighbor, visited)\n",
    "\n",
    "print(\"DFS from A:\")\n",
    "dfs(\"A\")\n"
   ]
  },
  {
   "cell_type": "markdown",
   "id": "8539a8d4",
   "metadata": {},
   "source": [
    "## 3. Dijkstra's Algorithm\n",
    "Dijkstra's algorithm finds the shortest path from a source node to all other nodes in a weighted graph with non-negative weights."
   ]
  },
  {
   "cell_type": "code",
   "execution_count": 4,
   "id": "33bbd9f8",
   "metadata": {},
   "outputs": [
    {
     "name": "stdout",
     "output_type": "stream",
     "text": [
      "Shortest distances from A:\n",
      "{'A': 0, 'B': 2, 'C': 5, 'D': 3, 'E': 5, 'F': 6}\n"
     ]
    }
   ],
   "source": [
    "import heapq\n",
    "\n",
    "# Weighted graph\n",
    "weighted_graph = {\n",
    "    \"A\": [(\"B\", 2), (\"C\", 5)],\n",
    "    \"B\": [(\"A\", 2), (\"D\", 1), (\"E\", 3)],\n",
    "    \"C\": [(\"A\", 5), (\"F\", 2)],\n",
    "    \"D\": [(\"B\", 1)],\n",
    "    \"E\": [(\"B\", 3), (\"F\", 1)],\n",
    "    \"F\": [(\"C\", 2), (\"E\", 1)]\n",
    "}\n",
    "\n",
    "def dijkstra(graph, start):\n",
    "    heap = [(0, start)]\n",
    "    distances = {node: float(\"inf\") for node in graph}\n",
    "    distances[start] = 0\n",
    "\n",
    "    while heap:\n",
    "        current_dist, current_node = heapq.heappop(heap)\n",
    "\n",
    "        if current_dist > distances[current_node]:\n",
    "            continue\n",
    "\n",
    "        for neighbor, weight in graph[current_node]:\n",
    "            distance = current_dist + weight\n",
    "            if distance < distances[neighbor]:\n",
    "                distances[neighbor] = distance\n",
    "                heapq.heappush(heap, (distance, neighbor))\n",
    "\n",
    "    return distances\n",
    "\n",
    "print(\"Shortest distances from A:\")\n",
    "print(dijkstra(weighted_graph, \"A\"))\n"
   ]
  }
 ],
 "metadata": {
  "kernelspec": {
   "display_name": ".homebuddy_env",
   "language": "python",
   "name": "python3"
  },
  "language_info": {
   "codemirror_mode": {
    "name": "ipython",
    "version": 3
   },
   "file_extension": ".py",
   "mimetype": "text/x-python",
   "name": "python",
   "nbconvert_exporter": "python",
   "pygments_lexer": "ipython3",
   "version": "3.11.8"
  }
 },
 "nbformat": 4,
 "nbformat_minor": 5
}
