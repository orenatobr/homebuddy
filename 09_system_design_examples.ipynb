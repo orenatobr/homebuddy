{
 "cells": [
  {
   "cell_type": "markdown",
   "id": "27ec277b",
   "metadata": {},
   "source": [
    "# System Design Examples: Rate Limiter, Cache, and URL Shortener\n",
    "This notebook contains Python implementations of three classic system design interview problems:\n",
    "- Rate Limiter\n",
    "- Cache (LRU)\n",
    "- URL Shortener"
   ]
  },
  {
   "cell_type": "markdown",
   "id": "4aef1917",
   "metadata": {},
   "source": [
    "## 1. Rate Limiter (Token Bucket / Sliding Window)\n",
    "This example uses a simple **fixed window counter** approach to limit requests per user."
   ]
  },
  {
   "cell_type": "code",
   "execution_count": null,
   "id": "ede2ed49",
   "metadata": {},
   "outputs": [
    {
     "name": "stdout",
     "output_type": "stream",
     "text": [
      "Request allowed: True\n",
      "Request allowed: True\n",
      "Request allowed: True\n",
      "Request allowed: False\n",
      "Request allowed: False\n"
     ]
    }
   ],
   "source": [
    "import time\n",
    "from collections import defaultdict\n",
    "\n",
    "\n",
    "class RateLimiter:\n",
    "    def __init__(self, max_requests, window_seconds):\n",
    "        self.max_requests = max_requests\n",
    "        self.window_seconds = window_seconds\n",
    "        self.user_access = defaultdict(list)\n",
    "\n",
    "    def is_allowed(self, user_id):\n",
    "        current_time = time.time()\n",
    "        window_start = current_time - self.window_seconds\n",
    "\n",
    "        # Remove expired timestamps\n",
    "        self.user_access[user_id] = [\n",
    "            timestamp\n",
    "            for timestamp in self.user_access[user_id]\n",
    "            if timestamp > window_start\n",
    "        ]\n",
    "\n",
    "        if len(self.user_access[user_id]) < self.max_requests:\n",
    "            self.user_access[user_id].append(current_time)\n",
    "            return True\n",
    "        return False\n",
    "\n",
    "\n",
    "# Usage\n",
    "limiter = RateLimiter(max_requests=3, window_seconds=10)\n",
    "for i in range(5):\n",
    "    print(\"Request allowed:\", limiter.is_allowed(\"user1\"))\n",
    "    time.sleep(2)"
   ]
  },
  {
   "cell_type": "markdown",
   "id": "2268e066",
   "metadata": {},
   "source": [
    "## 2. Cache - Least Recently Used (LRU)\n",
    "Python’s `OrderedDict` can be used to implement an efficient LRU cache."
   ]
  },
  {
   "cell_type": "code",
   "execution_count": null,
   "id": "fd019c42",
   "metadata": {},
   "outputs": [
    {
     "name": "stdout",
     "output_type": "stream",
     "text": [
      "Get a: 1\n",
      "Get b: -1\n"
     ]
    }
   ],
   "source": [
    "from collections import OrderedDict\n",
    "\n",
    "\n",
    "class LRUCache:\n",
    "    def __init__(self, capacity):\n",
    "        self.cache = OrderedDict()\n",
    "        self.capacity = capacity\n",
    "\n",
    "    def get(self, key):\n",
    "        if key not in self.cache:\n",
    "            return -1\n",
    "        self.cache.move_to_end(key)\n",
    "        return self.cache[key]\n",
    "\n",
    "    def put(self, key, value):\n",
    "        if key in self.cache:\n",
    "            self.cache.move_to_end(key)\n",
    "        self.cache[key] = value\n",
    "        if len(self.cache) > self.capacity:\n",
    "            self.cache.popitem(last=False)\n",
    "\n",
    "\n",
    "# Usage\n",
    "cache = LRUCache(2)\n",
    "cache.put(\"a\", 1)\n",
    "cache.put(\"b\", 2)\n",
    "print(\"Get a:\", cache.get(\"a\"))  # Access 'a', now 'b' is LRU\n",
    "cache.put(\"c\", 3)  # 'b' should be evicted\n",
    "print(\"Get b:\", cache.get(\"b\"))"
   ]
  },
  {
   "cell_type": "markdown",
   "id": "3238c79a",
   "metadata": {},
   "source": [
    "## 3. URL Shortener\n",
    "Simulate a service like bit.ly using a base62-encoded ID."
   ]
  },
  {
   "cell_type": "code",
   "execution_count": null,
   "id": "ebc75f0a",
   "metadata": {},
   "outputs": [
    {
     "name": "stdout",
     "output_type": "stream",
     "text": [
      "Short URL: https://short.ly/iK7Wui\n",
      "Decoded: https://example.com/very/long/url\n"
     ]
    }
   ],
   "source": [
    "import string\n",
    "import random\n",
    "\n",
    "\n",
    "class URLShortener:\n",
    "    def __init__(self):\n",
    "        self.url_to_code = {}\n",
    "        self.code_to_url = {}\n",
    "        self.base = string.ascii_letters + string.digits\n",
    "        self.prefix = \"https://short.ly/\"\n",
    "\n",
    "    def encode(self, long_url):\n",
    "        if long_url in self.url_to_code:\n",
    "            return self.prefix + self.url_to_code[long_url]\n",
    "\n",
    "        code = \"\".join(random.choices(self.base, k=6))\n",
    "        while code in self.code_to_url:\n",
    "            code = \"\".join(random.choices(self.base, k=6))\n",
    "\n",
    "        self.url_to_code[long_url] = code\n",
    "        self.code_to_url[code] = long_url\n",
    "        return self.prefix + code\n",
    "\n",
    "    def decode(self, short_url):\n",
    "        code = short_url.split(\"/\")[-1]\n",
    "        return self.code_to_url.get(code, None)\n",
    "\n",
    "\n",
    "# Usage\n",
    "shortener = URLShortener()\n",
    "short = shortener.encode(\"https://example.com/very/long/url\")\n",
    "print(\"Short URL:\", short)\n",
    "print(\"Decoded:\", shortener.decode(short))"
   ]
  }
 ],
 "metadata": {
  "kernelspec": {
   "display_name": ".homebuddy_env",
   "language": "python",
   "name": "python3"
  },
  "language_info": {
   "codemirror_mode": {
    "name": "ipython",
    "version": 3
   },
   "file_extension": ".py",
   "mimetype": "text/x-python",
   "name": "python",
   "nbconvert_exporter": "python",
   "pygments_lexer": "ipython3",
   "version": "3.11.8"
  }
 },
 "nbformat": 4,
 "nbformat_minor": 5
}
