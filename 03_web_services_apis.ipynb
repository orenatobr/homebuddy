{
 "cells": [
  {
   "cell_type": "markdown",
   "id": "1a7fc3c7",
   "metadata": {},
   "source": [
    "# Web Services and APIs\n",
    "This notebook covers essential concepts for working with Web APIs, commonly tested in interviews:\n",
    "- REST vs SOAP\n",
    "- HTTP Status Codes\n",
    "- Data Formats: JSON vs XML\n",
    "- Authentication Methods\n",
    "- Pagination"
   ]
  },
  {
   "cell_type": "markdown",
   "id": "6a827269",
   "metadata": {},
   "source": [
    "## 1. REST vs SOAP\n",
    "**REST (Representational State Transfer)**:\n",
    "- Stateless\n",
    "- Lightweight (usually JSON)\n",
    "- Uses standard HTTP methods (GET, POST, PUT, DELETE)\n",
    "- Common for modern web services\n",
    "\n",
    "**SOAP (Simple Object Access Protocol)**:\n",
    "- Protocol with strict standards\n",
    "- Uses XML for message format\n",
    "- Heavier, with more overhead\n",
    "- Often used in enterprise or legacy systems"
   ]
  },
  {
   "cell_type": "markdown",
   "id": "74c71ac2",
   "metadata": {},
   "source": [
    "## 2. HTTP Status Codes\n",
    "Commonly used status codes include:\n",
    "- `200 OK`: Successful request\n",
    "- `201 Created`: Resource created\n",
    "- `204 No Content`: Success without response body\n",
    "- `400 Bad Request`: Invalid input\n",
    "- `401 Unauthorized`: Missing or invalid credentials\n",
    "- `403 Forbidden`: Permission denied\n",
    "- `404 Not Found`: Resource not found\n",
    "- `500 Internal Server Error`: Server-side issue"
   ]
  },
  {
   "cell_type": "markdown",
   "id": "dad90f63",
   "metadata": {},
   "source": [
    "## 3. JSON vs XML\n",
    "**JSON (JavaScript Object Notation)**:\n",
    "- Lightweight and human-readable\n",
    "- Easy to parse in JavaScript and Python\n",
    "\n",
    "**XML (eXtensible Markup Language)**:\n",
    "- Verbose\n",
    "- Supports attributes and complex schemas\n",
    "\n",
    "Example of JSON vs XML:"
   ]
  },
  {
   "cell_type": "code",
   "execution_count": null,
   "id": "3ea0ac5e",
   "metadata": {},
   "outputs": [
    {
     "name": "stdout",
     "output_type": "stream",
     "text": [
      "JSON Format:\n",
      "{\n",
      "  \"name\": \"Renato\",\n",
      "  \"age\": 30,\n",
      "  \"skills\": [\n",
      "    \"Python\",\n",
      "    \"APIs\",\n",
      "    \"ML\"\n",
      "  ]\n",
      "}\n"
     ]
    }
   ],
   "source": [
    "# JSON Example\n",
    "import json\n",
    "\n",
    "data = {\"name\": \"Renato\", \"age\": 30, \"skills\": [\"Python\", \"APIs\", \"ML\"]}\n",
    "\n",
    "json_str = json.dumps(data, indent=2)\n",
    "print(\"JSON Format:\")\n",
    "print(json_str)"
   ]
  },
  {
   "cell_type": "code",
   "execution_count": null,
   "id": "0baa07a3",
   "metadata": {},
   "outputs": [
    {
     "name": "stdout",
     "output_type": "stream",
     "text": [
      "XML Format:\n",
      "<person><name>Renato</name><age>30</age><skills><skill>Python</skill><skill>APIs</skill><skill>ML</skill></skills></person>\n"
     ]
    }
   ],
   "source": [
    "# XML Example\n",
    "import xml.etree.ElementTree as ET\n",
    "\n",
    "root = ET.Element(\"person\")\n",
    "ET.SubElement(root, \"name\").text = \"Renato\"\n",
    "ET.SubElement(root, \"age\").text = \"30\"\n",
    "skills = ET.SubElement(root, \"skills\")\n",
    "for skill in [\"Python\", \"APIs\", \"ML\"]:\n",
    "    ET.SubElement(skills, \"skill\").text = skill\n",
    "\n",
    "xml_str = ET.tostring(root, encoding=\"unicode\")\n",
    "print(\"XML Format:\")\n",
    "print(xml_str)"
   ]
  },
  {
   "cell_type": "markdown",
   "id": "53be21d6",
   "metadata": {},
   "source": [
    "## 4. Authentication Methods\n",
    "Common API authentication methods:\n",
    "- **API Keys**: Simple token passed in headers or query params\n",
    "- **Basic Auth**: Username and password encoded in Base64\n",
    "- **Bearer Token (OAuth2)**: Access token in Authorization header\n",
    "- **JWT (JSON Web Tokens)**: Self-contained tokens for authentication and authorization"
   ]
  },
  {
   "cell_type": "code",
   "execution_count": null,
   "id": "eb1a6915",
   "metadata": {},
   "outputs": [
    {
     "name": "stdout",
     "output_type": "stream",
     "text": [
      "Status: 200\n",
      "Response JSON: {'authenticated': True, 'token': 'dummy_token_123'}\n"
     ]
    }
   ],
   "source": [
    "# Example of adding headers for Bearer token\n",
    "import requests\n",
    "\n",
    "url = \"https://httpbin.org/bearer\"\n",
    "headers = {\"Authorization\": \"Bearer dummy_token_123\"}\n",
    "response = requests.get(url, headers=headers)\n",
    "print(\"Status:\", response.status_code)\n",
    "print(\"Response JSON:\", response.json())"
   ]
  },
  {
   "cell_type": "markdown",
   "id": "b6e6bce8",
   "metadata": {},
   "source": [
    "## 5. Pagination\n",
    "APIs often limit how many results you get per request. Pagination strategies include:\n",
    "- **Offset-based**: `?limit=10&offset=20`\n",
    "- **Page-based**: `?page=2&page_size=10`\n",
    "- **Cursor-based**: `?cursor=xyz`\n",
    "\n",
    "This helps prevent large payloads and improves performance."
   ]
  },
  {
   "cell_type": "code",
   "execution_count": null,
   "id": "67faf6d2",
   "metadata": {},
   "outputs": [
    {
     "name": "stdout",
     "output_type": "stream",
     "text": [
      "Items (offset=0): ['Item 0', 'Item 1', 'Item 2', 'Item 3', 'Item 4']\n",
      "Items (offset=5): ['Item 5', 'Item 6', 'Item 7', 'Item 8', 'Item 9']\n",
      "Items (offset=10): ['Item 10', 'Item 11', 'Item 12', 'Item 13', 'Item 14']\n",
      "Items (offset=15): ['Item 15', 'Item 16', 'Item 17', 'Item 18', 'Item 19']\n"
     ]
    }
   ],
   "source": [
    "import requests\n",
    "from unittest.mock import patch\n",
    "\n",
    "# Simulated dataset\n",
    "mock_data = {\"items\": [f\"Item {i}\" for i in range(20)]}\n",
    "\n",
    "\n",
    "# Create a mock response class\n",
    "class MockResponse:\n",
    "    def __init__(self, data):\n",
    "        self._data = data\n",
    "        self.status_code = 200\n",
    "\n",
    "    def json(self):\n",
    "        return self._data\n",
    "\n",
    "\n",
    "def mocked_paginated_response(url, params=None, **kwargs):\n",
    "    limit = params.get(\"limit\", 5)\n",
    "    offset = params.get(\"offset\", 0)\n",
    "    sliced_items = mock_data[\"items\"][offset : offset + limit]\n",
    "    return MockResponse({\"items\": sliced_items})\n",
    "\n",
    "\n",
    "# Simulate pagination\n",
    "base_url = \"https://api.example.com/items\"\n",
    "params = {\"limit\": 5, \"offset\": 0}\n",
    "\n",
    "with patch(\"requests.get\", side_effect=mocked_paginated_response):\n",
    "    while True:\n",
    "        response = requests.get(base_url, params=params)\n",
    "        data = response.json()\n",
    "        if not data[\"items\"]:\n",
    "            break\n",
    "        print(f\"Items (offset={params['offset']}):\", data[\"items\"])\n",
    "        params[\"offset\"] += params[\"limit\"]"
   ]
  }
 ],
 "metadata": {
  "kernelspec": {
   "display_name": ".homebuddy_env",
   "language": "python",
   "name": "python3"
  },
  "language_info": {
   "codemirror_mode": {
    "name": "ipython",
    "version": 3
   },
   "file_extension": ".py",
   "mimetype": "text/x-python",
   "name": "python",
   "nbconvert_exporter": "python",
   "pygments_lexer": "ipython3",
   "version": "3.11.8"
  }
 },
 "nbformat": 4,
 "nbformat_minor": 5
}
